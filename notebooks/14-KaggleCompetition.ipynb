{
 "cells": [
  {
   "cell_type": "markdown",
   "metadata": {},
   "source": [
    "# 14 - Kaggle Competition\n",
    "# Fraud Detection\n",
    "\n",
    "\n",
    "## https://inclass.kaggle.com/c/easy-ml-class\n",
    "\n",
    "by [Alejandro Correa Bahnsen](albahnsen.com/)\n",
    "\n",
    "version 0.1, May 2016\n",
    "\n",
    "## Part of the class [Machine Learning for Security Informatics](https://github.com/albahnsen/ML_SecurityInformatics)\n",
    "\n",
    "\n",
    "This notebook is licensed under a [Creative Commons Attribution-ShareAlike 3.0 Unported License]"
   ]
  },
  {
   "cell_type": "markdown",
   "metadata": {},
   "source": [
    "## Fraud Detection"
   ]
  },
  {
   "cell_type": "code",
   "execution_count": 62,
   "metadata": {
    "collapsed": false
   },
   "outputs": [],
   "source": [
    "import pandas as pd\n",
    "import zipfile\n",
    "with zipfile.ZipFile('../datasets/fraud_transactions_kaggle.csv.zip', 'r') as z:\n",
    "    f = z.open('fraud_transactions_kaggle.csv')\n",
    "    data = pd.read_csv(f, index_col=0)"
   ]
  },
  {
   "cell_type": "code",
   "execution_count": 6,
   "metadata": {
    "collapsed": false
   },
   "outputs": [
    {
     "data": {
      "text/html": [
       "<div>\n",
       "<table border=\"1\" class=\"dataframe\">\n",
       "  <thead>\n",
       "    <tr style=\"text-align: right;\">\n",
       "      <th></th>\n",
       "      <th>date</th>\n",
       "      <th>card_number</th>\n",
       "      <th>type</th>\n",
       "      <th>merchant</th>\n",
       "      <th>amount</th>\n",
       "      <th>fraud</th>\n",
       "    </tr>\n",
       "    <tr>\n",
       "      <th>ID</th>\n",
       "      <th></th>\n",
       "      <th></th>\n",
       "      <th></th>\n",
       "      <th></th>\n",
       "      <th></th>\n",
       "      <th></th>\n",
       "    </tr>\n",
       "  </thead>\n",
       "  <tbody>\n",
       "    <tr>\n",
       "      <th>0</th>\n",
       "      <td>2011-01-01 08:00:06</td>\n",
       "      <td>1942</td>\n",
       "      <td>2</td>\n",
       "      <td>8328</td>\n",
       "      <td>65.16</td>\n",
       "      <td>0.0</td>\n",
       "    </tr>\n",
       "    <tr>\n",
       "      <th>1</th>\n",
       "      <td>2011-01-01 08:00:16</td>\n",
       "      <td>5629</td>\n",
       "      <td>2</td>\n",
       "      <td>42588</td>\n",
       "      <td>260.84</td>\n",
       "      <td>0.0</td>\n",
       "    </tr>\n",
       "    <tr>\n",
       "      <th>2</th>\n",
       "      <td>2011-01-01 08:01:28</td>\n",
       "      <td>408</td>\n",
       "      <td>2</td>\n",
       "      <td>15622</td>\n",
       "      <td>6010.05</td>\n",
       "      <td>0.0</td>\n",
       "    </tr>\n",
       "    <tr>\n",
       "      <th>3</th>\n",
       "      <td>2011-01-01 08:01:43</td>\n",
       "      <td>859</td>\n",
       "      <td>2</td>\n",
       "      <td>45192</td>\n",
       "      <td>348.46</td>\n",
       "      <td>0.0</td>\n",
       "    </tr>\n",
       "    <tr>\n",
       "      <th>4</th>\n",
       "      <td>2011-01-01 08:01:48</td>\n",
       "      <td>3786</td>\n",
       "      <td>2</td>\n",
       "      <td>35549</td>\n",
       "      <td>1160.35</td>\n",
       "      <td>0.0</td>\n",
       "    </tr>\n",
       "  </tbody>\n",
       "</table>\n",
       "</div>"
      ],
      "text/plain": [
       "                   date  card_number  type  merchant   amount  fraud\n",
       "ID                                                                  \n",
       "0   2011-01-01 08:00:06         1942     2      8328    65.16    0.0\n",
       "1   2011-01-01 08:00:16         5629     2     42588   260.84    0.0\n",
       "2   2011-01-01 08:01:28          408     2     15622  6010.05    0.0\n",
       "3   2011-01-01 08:01:43          859     2     45192   348.46    0.0\n",
       "4   2011-01-01 08:01:48         3786     2     35549  1160.35    0.0"
      ]
     },
     "execution_count": 6,
     "metadata": {},
     "output_type": "execute_result"
    }
   ],
   "source": [
    "data.head()"
   ]
  },
  {
   "cell_type": "code",
   "execution_count": 7,
   "metadata": {
    "collapsed": false
   },
   "outputs": [
    {
     "data": {
      "text/html": [
       "<div>\n",
       "<table border=\"1\" class=\"dataframe\">\n",
       "  <thead>\n",
       "    <tr style=\"text-align: right;\">\n",
       "      <th></th>\n",
       "      <th>date</th>\n",
       "      <th>card_number</th>\n",
       "      <th>type</th>\n",
       "      <th>merchant</th>\n",
       "      <th>amount</th>\n",
       "      <th>fraud</th>\n",
       "    </tr>\n",
       "    <tr>\n",
       "      <th>ID</th>\n",
       "      <th></th>\n",
       "      <th></th>\n",
       "      <th></th>\n",
       "      <th></th>\n",
       "      <th></th>\n",
       "      <th></th>\n",
       "    </tr>\n",
       "  </thead>\n",
       "  <tbody>\n",
       "    <tr>\n",
       "      <th>199995</th>\n",
       "      <td>2012-12-31 17:04:18</td>\n",
       "      <td>4069</td>\n",
       "      <td>2</td>\n",
       "      <td>35828</td>\n",
       "      <td>91.22</td>\n",
       "      <td>NaN</td>\n",
       "    </tr>\n",
       "    <tr>\n",
       "      <th>199996</th>\n",
       "      <td>2012-12-31 17:04:51</td>\n",
       "      <td>9</td>\n",
       "      <td>2</td>\n",
       "      <td>46923</td>\n",
       "      <td>390.95</td>\n",
       "      <td>NaN</td>\n",
       "    </tr>\n",
       "    <tr>\n",
       "      <th>199997</th>\n",
       "      <td>2012-12-31 17:05:38</td>\n",
       "      <td>1481</td>\n",
       "      <td>1</td>\n",
       "      <td>-1</td>\n",
       "      <td>0.65</td>\n",
       "      <td>NaN</td>\n",
       "    </tr>\n",
       "    <tr>\n",
       "      <th>199998</th>\n",
       "      <td>2012-12-31 17:05:55</td>\n",
       "      <td>1481</td>\n",
       "      <td>1</td>\n",
       "      <td>4535</td>\n",
       "      <td>390.04</td>\n",
       "      <td>NaN</td>\n",
       "    </tr>\n",
       "    <tr>\n",
       "      <th>199999</th>\n",
       "      <td>2012-12-31 17:25:02</td>\n",
       "      <td>0</td>\n",
       "      <td>1</td>\n",
       "      <td>8322</td>\n",
       "      <td>308.44</td>\n",
       "      <td>NaN</td>\n",
       "    </tr>\n",
       "  </tbody>\n",
       "</table>\n",
       "</div>"
      ],
      "text/plain": [
       "                       date  card_number  type  merchant  amount  fraud\n",
       "ID                                                                     \n",
       "199995  2012-12-31 17:04:18         4069     2     35828   91.22    NaN\n",
       "199996  2012-12-31 17:04:51            9     2     46923  390.95    NaN\n",
       "199997  2012-12-31 17:05:38         1481     1        -1    0.65    NaN\n",
       "199998  2012-12-31 17:05:55         1481     1      4535  390.04    NaN\n",
       "199999  2012-12-31 17:25:02            0     1      8322  308.44    NaN"
      ]
     },
     "execution_count": 7,
     "metadata": {},
     "output_type": "execute_result"
    }
   ],
   "source": [
    "data.tail()"
   ]
  },
  {
   "cell_type": "code",
   "execution_count": 8,
   "metadata": {
    "collapsed": false
   },
   "outputs": [
    {
     "data": {
      "text/plain": [
       " 0.0    171048\n",
       "NaN      27909\n",
       " 1.0      1043\n",
       "Name: fraud, dtype: int64"
      ]
     },
     "execution_count": 8,
     "metadata": {},
     "output_type": "execute_result"
    }
   ],
   "source": [
    "data.fraud.value_counts(dropna=False)"
   ]
  },
  {
   "cell_type": "markdown",
   "metadata": {},
   "source": [
    "### Estimate aggregated features"
   ]
  },
  {
   "cell_type": "code",
   "execution_count": 63,
   "metadata": {
    "collapsed": true
   },
   "outputs": [],
   "source": [
    "from datetime import datetime, timedelta\n",
    "from tqdm import tqdm"
   ]
  },
  {
   "cell_type": "markdown",
   "metadata": {},
   "source": [
    "Split for each account and create the date as index"
   ]
  },
  {
   "cell_type": "code",
   "execution_count": 64,
   "metadata": {
    "collapsed": false
   },
   "outputs": [
    {
     "name": "stderr",
     "output_type": "stream",
     "text": [
      "100%|██████████| 8087/8087 [00:24<00:00, 326.43it/s]\n"
     ]
    }
   ],
   "source": [
    "card_numbers = data['card_number'].unique()\n",
    "data['trx_id'] = data.index\n",
    "data.index = pd.DatetimeIndex(data['date'])\n",
    "\n",
    "data_ = []\n",
    "for card_number in tqdm(card_numbers):\n",
    "    data_.append(data.query('card_number == ' + str(card_number)))"
   ]
  },
  {
   "cell_type": "markdown",
   "metadata": {},
   "source": [
    "Create Aggregated Features for one account\n"
   ]
  },
  {
   "cell_type": "code",
   "execution_count": 72,
   "metadata": {
    "collapsed": true
   },
   "outputs": [],
   "source": [
    "res_agg = pd.DataFrame(index=data['trx_id'].values, \n",
    "                       columns=['Trx_sum_7D', 'Trx_count_1D'])"
   ]
  },
  {
   "cell_type": "code",
   "execution_count": 73,
   "metadata": {
    "collapsed": false
   },
   "outputs": [],
   "source": [
    "trx = data_[0]\n",
    "\n",
    "for i in range(trx.shape[0]):\n",
    "    date = trx.index[i]\n",
    "    trx_id = int(trx.ix[i, 'trx_id'])\n",
    "    # Sum 7 D\n",
    "    agg_ = trx[date-pd.datetools.to_offset('7D').delta:date-timedelta(0,0,1)]\n",
    "    res_agg.loc[trx_id, 'Trx_sum_7D'] = agg_['amount'].sum()\n",
    "    # Count 1D\n",
    "    agg_ = trx[date-pd.datetools.to_offset('1D').delta:date-timedelta(0,0,1)]\n",
    "    res_agg.loc[trx_id, 'Trx_count_1D'] = agg_['amount'].shape[0]"
   ]
  },
  {
   "cell_type": "code",
   "execution_count": 74,
   "metadata": {
    "collapsed": false
   },
   "outputs": [
    {
     "data": {
      "text/plain": [
       "Trx_sum_7D      1054.881429\n",
       "Trx_count_1D       0.640693\n",
       "dtype: float64"
      ]
     },
     "execution_count": 74,
     "metadata": {},
     "output_type": "execute_result"
    }
   ],
   "source": [
    "res_agg.mean()"
   ]
  },
  {
   "cell_type": "markdown",
   "metadata": {},
   "source": [
    "All accounts"
   ]
  },
  {
   "cell_type": "code",
   "execution_count": 75,
   "metadata": {
    "collapsed": false
   },
   "outputs": [
    {
     "name": "stderr",
     "output_type": "stream",
     "text": [
      "100%|██████████| 8087/8087 [05:04<00:00, 26.54it/s] \n"
     ]
    }
   ],
   "source": [
    "for trx in tqdm(data_):\n",
    "    for i in range(trx.shape[0]):\n",
    "        date = trx.index[i]\n",
    "        trx_id = int(trx.ix[i, 'trx_id'])\n",
    "        # Sum 7 D\n",
    "        agg_ = trx[date-pd.datetools.to_offset('7D').delta:date-timedelta(0,0,1)]\n",
    "        res_agg.loc[trx_id, 'Trx_sum_7D'] = agg_['amount'].sum()\n",
    "        # Count 1D\n",
    "        agg_ = trx[date-pd.datetools.to_offset('1D').delta:date-timedelta(0,0,1)]\n",
    "        res_agg.loc[trx_id, 'Trx_count_1D'] = agg_['amount'].shape[0]"
   ]
  },
  {
   "cell_type": "code",
   "execution_count": null,
   "metadata": {
    "collapsed": true
   },
   "outputs": [],
   "source": []
  }
 ],
 "metadata": {
  "kernelspec": {
   "display_name": "Python 3",
   "language": "python",
   "name": "python3"
  },
  "language_info": {
   "codemirror_mode": {
    "name": "ipython",
    "version": 3
   },
   "file_extension": ".py",
   "mimetype": "text/x-python",
   "name": "python",
   "nbconvert_exporter": "python",
   "pygments_lexer": "ipython3",
   "version": "3.5.1"
  }
 },
 "nbformat": 4,
 "nbformat_minor": 0
}
