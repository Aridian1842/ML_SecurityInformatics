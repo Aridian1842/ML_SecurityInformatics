{
 "cells": [
  {
   "cell_type": "markdown",
   "metadata": {},
   "source": [
    "# 12 -  Introduction to Deep Learning\n",
    "\n",
    "by [Alejandro Correa Bahnsen](albahnsen.com/)\n",
    "\n",
    "version 0.1, May 2016\n",
    "\n",
    "## Part of the class [Machine Learning for Security Informatics](https://github.com/albahnsen/ML_SecurityInformatics)\n",
    "\n",
    "\n",
    "This notebook is licensed under a [Creative Commons Attribution-ShareAlike 3.0 Unported License](http://creativecommons.org/licenses/by-sa/3.0/deed.en_US)\n",
    "\n",
    "Based on the slides and presentation by [Alec Radford](https://www.youtube.com/watch?v=S75EdAcXHKk) [github](https://github.com/Newmu/Theano-Tutorials/)"
   ]
  },
  {
   "cell_type": "markdown",
   "metadata": {},
   "source": [
    "For this class you must install theno\n",
    "\n",
    "```pip instal theano```"
   ]
  },
  {
   "cell_type": "markdown",
   "metadata": {},
   "source": [
    "# Motivation\n",
    "\n",
    "How do we program a computer to recognize a picture of a\n",
    "handwritten digit as a 0-9?\n",
    "\n",
    "![1](images/d1.png)"
   ]
  },
  {
   "cell_type": "markdown",
   "metadata": {},
   "source": [
    "### What if we have 60,000 of these images and their label?"
   ]
  },
  {
   "cell_type": "code",
   "execution_count": 1,
   "metadata": {
    "collapsed": false
   },
   "outputs": [],
   "source": [
    "import numpy as np"
   ]
  },
  {
   "cell_type": "code",
   "execution_count": 2,
   "metadata": {
    "collapsed": false
   },
   "outputs": [],
   "source": [
    "from load import mnist\n",
    "X_train, X_test, y_train2, y_test2 = mnist(onehot=True)"
   ]
  },
  {
   "cell_type": "code",
   "execution_count": 3,
   "metadata": {
    "collapsed": false
   },
   "outputs": [],
   "source": [
    "y_train = np.argmax(y_train2, axis=1)\n",
    "y_test = np.argmax(y_test2, axis=1)"
   ]
  },
  {
   "cell_type": "code",
   "execution_count": 4,
   "metadata": {
    "collapsed": false
   },
   "outputs": [
    {
     "data": {
      "text/plain": [
       "[[0.0, 0.0, 0.0, 0.0, 0.0],\n",
       " [0.0, 0.0, 0.0, 0.0, 0.0],\n",
       " [0.0, 0.0, 0.0, 0.0, 0.0],\n",
       " [0.0, 0.0, 0.0, 0.0, 0.0],\n",
       " [0.0, 0.0, 0.0, 0.0, 0.0],\n",
       " [0.0, 0.0, 0.0, 0.0, 0.0],\n",
       " [0.0, 0.0, 0.0, 0.0, 0.0],\n",
       " [0.0, 0.0, 0.0, 0.0, 0.0],\n",
       " [0.0, 0.0, 0.0, 0.0, 0.0],\n",
       " [0.0, 0.0, 0.0, 0.0, 0.0],\n",
       " [0.0, 0.0, 0.0, 0.0, 0.0],\n",
       " [0.0, 0.0, 0.0, 0.0, 0.15],\n",
       " [0.0, 0.0, 0.0, 0.03, 0.7],\n",
       " [0.0, 0.0, 0.0, 0.22, 0.99],\n",
       " [0.0, 0.0, 0.0, 0.78, 0.99],\n",
       " [0.0, 0.0, 0.3, 0.96, 0.99],\n",
       " [0.0, 0.0, 0.33, 0.99, 0.9],\n",
       " [0.0, 0.0, 0.33, 0.99, 0.87],\n",
       " [0.0, 0.0, 0.33, 0.99, 0.57],\n",
       " [0.0, 0.0, 0.34, 0.99, 0.88],\n",
       " [0.0, 0.0, 0.33, 0.99, 0.98],\n",
       " [0.0, 0.0, 0.33, 0.99, 0.99],\n",
       " [0.0, 0.0, 0.11, 0.78, 0.99],\n",
       " [0.0, 0.0, 0.0, 0.1, 0.5],\n",
       " [0.0, 0.0, 0.0, 0.0, 0.0],\n",
       " [0.0, 0.0, 0.0, 0.0, 0.0],\n",
       " [0.0, 0.0, 0.0, 0.0, 0.0],\n",
       " [0.0, 0.0, 0.0, 0.0, 0.0]]"
      ]
     },
     "execution_count": 4,
     "metadata": {},
     "output_type": "execute_result"
    }
   ],
   "source": [
    "X_train[1].reshape((28, 28)).round(2)[:, 4:9].tolist()"
   ]
  },
  {
   "cell_type": "code",
   "execution_count": 7,
   "metadata": {
    "collapsed": true
   },
   "outputs": [],
   "source": [
    "from pylab import imshow, show, cm\n",
    "import matplotlib.pylab as plt\n",
    "%matplotlib inline\n",
    "\n",
    "def view_image(image, label=\"\", predicted='', size=4):\n",
    "    \"\"\"View a single image.\"\"\"\n",
    "    plt.figure(figsize = (size, size))\n",
    "    plt.imshow(image.reshape((28, 28)), cmap=cm.gray, )\n",
    "    plt.tick_params(axis='x',which='both',  bottom='off',top='off', labelbottom='off')\n",
    "    plt.tick_params(axis='y',which='both',  left='off',top='off', labelleft='off')\n",
    "    show()\n",
    "    if predicted == '':\n",
    "        print(\"Label: %s\" % label)\n",
    "    else:\n",
    "        print('Label: ', str(label), 'Predicted: ', str(predicted))\n",
    "    "
   ]
  },
  {
   "cell_type": "code",
   "execution_count": 8,
   "metadata": {
    "collapsed": false
   },
   "outputs": [
    {
     "data": {
      "image/png": "[encoded data removed]",
      "text/plain": [
       "<matplotlib.figure.Figure at 0x7fb4ac01a518>"
      ]
     },
     "metadata": {},
     "output_type": "display_data"
    },
    {
     "name": "stdout",
     "output_type": "stream",
     "text": [
      "Label: 0\n"
     ]
    }
   ],
   "source": [
    "view_image(X_train[1], y_train[1])"
   ]
  },
  {
   "cell_type": "code",
   "execution_count": 9,
   "metadata": {
    "collapsed": false
   },
   "outputs": [
    {
     "data": {
      "image/png": "[encoded data removed]",
      "text/plain": [
       "<matplotlib.figure.Figure at 0x7fb48215bda0>"
      ]
     },
     "metadata": {},
     "output_type": "display_data"
    },
    {
     "name": "stdout",
     "output_type": "stream",
     "text": [
      "Label: 7\n"
     ]
    }
   ],
   "source": [
    "view_image(X_train[40000], y_train[40000])"
   ]
  },
  {
   "cell_type": "markdown",
   "metadata": {},
   "source": [
    "# Naive model\n",
    "\n",
    "For each image, find the “most similar” image and guess\n",
    "that as the label"
   ]
  },
  {
   "cell_type": "code",
   "execution_count": 11,
   "metadata": {
    "collapsed": false
   },
   "outputs": [],
   "source": [
    "def similarity(image, images):\n",
    "    similarities = []\n",
    "    image = image.reshape((28, 28))\n",
    "    images = images.reshape((-1, 28, 28))\n",
    "    for i in range(images.shape[0]):\n",
    "        distance = np.sqrt(np.sum(image - images[i]) ** 2)\n",
    "        sim = 1 / distance\n",
    "        similarities.append(sim)\n",
    "    return similarities"
   ]
  },
  {
   "cell_type": "code",
   "execution_count": 12,
   "metadata": {
    "collapsed": false
   },
   "outputs": [],
   "source": [
    "np.random.seed(52)\n",
    "small_train = np.random.choice(X_train.shape[0], 100)"
   ]
  },
  {
   "cell_type": "code",
   "execution_count": 13,
   "metadata": {
    "collapsed": false
   },
   "outputs": [
    {
     "data": {
      "image/png": "[encoded data removed]",
      "text/plain": [
       "<matplotlib.figure.Figure at 0x7fb482139710>"
      ]
     },
     "metadata": {},
     "output_type": "display_data"
    },
    {
     "name": "stdout",
     "output_type": "stream",
     "text": [
      "Label: \n"
     ]
    }
   ],
   "source": [
    "view_image(X_test[0])"
   ]
  },
  {
   "cell_type": "code",
   "execution_count": 14,
   "metadata": {
    "collapsed": false
   },
   "outputs": [],
   "source": [
    "similarities = similarity(X_test[0], X_train[small_train])"
   ]
  },
  {
   "cell_type": "code",
   "execution_count": 15,
   "metadata": {
    "collapsed": false
   },
   "outputs": [
    {
     "data": {
      "image/png": "[encoded data removed]",
      "text/plain": [
       "<matplotlib.figure.Figure at 0x7fb482139f28>"
      ]
     },
     "metadata": {},
     "output_type": "display_data"
    },
    {
     "name": "stdout",
     "output_type": "stream",
     "text": [
      "Label: \n"
     ]
    }
   ],
   "source": [
    "view_image(X_train[small_train[np.argmax(similarities)]])"
   ]
  },
  {
   "cell_type": "markdown",
   "metadata": {},
   "source": [
    "Lets try an other example"
   ]
  },
  {
   "cell_type": "code",
   "execution_count": 16,
   "metadata": {
    "collapsed": false
   },
   "outputs": [
    {
     "data": {
      "image/png": "[encoded data removed]",
      "text/plain": [
       "<matplotlib.figure.Figure at 0x7fb482139748>"
      ]
     },
     "metadata": {},
     "output_type": "display_data"
    },
    {
     "name": "stdout",
     "output_type": "stream",
     "text": [
      "Label: \n"
     ]
    }
   ],
   "source": [
    "view_image(X_test[200])"
   ]
  },
  {
   "cell_type": "code",
   "execution_count": 17,
   "metadata": {
    "collapsed": false
   },
   "outputs": [
    {
     "data": {
      "image/png": "[encoded data removed]",
      "text/plain": [
       "<matplotlib.figure.Figure at 0x7fb4820a4940>"
      ]
     },
     "metadata": {},
     "output_type": "display_data"
    },
    {
     "name": "stdout",
     "output_type": "stream",
     "text": [
      "Label: \n"
     ]
    }
   ],
   "source": [
    "similarities = similarity(X_test[200], X_train[small_train])\n",
    "view_image(X_train[small_train[np.argmax(similarities)]])"
   ]
  },
  {
   "cell_type": "markdown",
   "metadata": {},
   "source": [
    "# Logistic Regression\n",
    "\n",
    "Logistic regression is a probabilistic, linear classifier. It is parametrized\n",
    "by a weight matrix $W$ and a bias vector $b$ Classification is\n",
    "done by projecting data points onto a set of hyperplanes, the distance to\n",
    "which is used to determine a class membership probability.\n",
    "\n",
    "Mathematically, this can be written as:\n",
    "\n",
    "$$\n",
    "  P(Y=i\\vert x, W,b) = softmax_i(W x + b) \n",
    "$$\n",
    "$$\n",
    "   P(Y=i|x, W,b) =  \\frac {e^{W_i x + b_i}} {\\sum_j e^{W_j x + b_j}}\n",
    "$$\n",
    "\n",
    "The output of the model or prediction is then done by taking the argmax of\n",
    "the vector whose i'th element is $P(Y=i|x)$.\n",
    "\n",
    "$$\n",
    "  y_{pred} = argmax_i P(Y=i|x,W,b)\n",
    "$$\n",
    "\n",
    "![a](images/d2.png)"
   ]
  },
  {
   "cell_type": "code",
   "execution_count": 18,
   "metadata": {
    "collapsed": true
   },
   "outputs": [],
   "source": [
    "import theano\n",
    "from theano import tensor as T\n",
    "import numpy as np\n",
    "import datetime as dt"
   ]
  },
  {
   "cell_type": "code",
   "execution_count": 19,
   "metadata": {
    "collapsed": false
   },
   "outputs": [],
   "source": [
    "theano.config.floatX = 'float32'"
   ]
  },
  {
   "cell_type": "markdown",
   "metadata": {},
   "source": [
    "```\n",
    "Theano is a Python library that lets you to define, optimize, and evaluate mathematical expressions, especially ones with multi-dimensional arrays (numpy.ndarray). Using Theano it is possible to attain speeds rivaling hand-crafted C implementations for problems involving large amounts of data. It can also surpass C on a CPU by many orders of magnitude by taking advantage of recent GPUs.\n",
    "\n",
    "Theano combines aspects of a computer algebra system (CAS) with aspects of an optimizing compiler. It can also generate customized C code for many mathematical operations. This combination of CAS with optimizing compilation is particularly useful for tasks in which complicated mathematical expressions are evaluated repeatedly and evaluation speed is critical. For situations where many different expressions are each evaluated once Theano can minimize the amount of compilation/analysis overhead, but still provide symbolic features such as automatic differentiation.\n",
    "```"
   ]
  },
  {
   "cell_type": "code",
   "execution_count": 22,
   "metadata": {
    "collapsed": false
   },
   "outputs": [],
   "source": [
    "def floatX(X):\n",
    "#     return np.asarray(X, dtype='float32')\n",
    "    return np.asarray(X, dtype=theano.config.floatX)\n",
    "\n",
    "def init_weights(shape):\n",
    "    return theano.shared(floatX(np.random.randn(*shape) * 0.01))\n",
    "\n",
    "def model(X, w):\n",
    "    return T.nnet.softmax(T.dot(X, w))"
   ]
  },
  {
   "cell_type": "code",
   "execution_count": 23,
   "metadata": {
    "collapsed": true
   },
   "outputs": [],
   "source": [
    "X = T.fmatrix()\n",
    "Y = T.fmatrix()\n",
    "\n",
    "w = init_weights((784, 10))"
   ]
  },
  {
   "cell_type": "code",
   "execution_count": 24,
   "metadata": {
    "collapsed": false
   },
   "outputs": [
    {
     "data": {
      "text/plain": [
       "array([[ -5.39610814e-03,  -1.43594560e-04,   1.69246327e-02, ...,\n",
       "         -2.78904056e-03,  -1.08682849e-02,  -1.10536127e-03],\n",
       "       [  1.34781636e-02,  -1.78177636e-02,  -1.24749457e-02, ...,\n",
       "         -9.31460038e-03,  -5.03959786e-03,   4.43599274e-05],\n",
       "       [  1.08171478e-02,  -7.10076233e-03,  -5.88069623e-03, ...,\n",
       "         -2.36368985e-04,  -1.61193740e-02,  -1.11860246e-03],\n",
       "       ..., \n",
       "       [  9.94920544e-03,  -1.58130825e-02,   1.65188278e-03, ...,\n",
       "         -4.96242149e-03,  -8.17313045e-03,  -8.21825489e-03],\n",
       "       [ -1.15539385e-02,   2.28418992e-03,  -2.11755149e-02, ...,\n",
       "          3.36804474e-03,  -1.58600565e-02,   8.99706781e-03],\n",
       "       [  6.98694680e-03,  -1.28191579e-02,   9.20862891e-03, ...,\n",
       "         -2.52995640e-02,   8.57820641e-03,   1.18237082e-03]], dtype=float32)"
      ]
     },
     "execution_count": 24,
     "metadata": {},
     "output_type": "execute_result"
    }
   ],
   "source": [
    "w.get_value()"
   ]
  },
  {
   "cell_type": "markdown",
   "metadata": {},
   "source": [
    "initialize model"
   ]
  },
  {
   "cell_type": "code",
   "execution_count": 25,
   "metadata": {
    "collapsed": false
   },
   "outputs": [],
   "source": [
    "py_x = model(X, w)\n",
    "y_pred = T.argmax(py_x, axis=1)"
   ]
  },
  {
   "cell_type": "code",
   "execution_count": 26,
   "metadata": {
    "collapsed": false
   },
   "outputs": [],
   "source": [
    "cost = T.mean(T.nnet.categorical_crossentropy(py_x, Y))\n",
    "gradient = T.grad(cost=cost, wrt=w)\n",
    "update = [[w, w - gradient * 0.05]]"
   ]
  },
  {
   "cell_type": "code",
   "execution_count": 27,
   "metadata": {
    "collapsed": false
   },
   "outputs": [],
   "source": [
    "train = theano.function(inputs=[X, Y], outputs=cost, updates=update, allow_input_downcast=True)\n",
    "predict = theano.function(inputs=[X], outputs=y_pred, allow_input_downcast=True)"
   ]
  },
  {
   "cell_type": "markdown",
   "metadata": {},
   "source": [
    "One iteration"
   ]
  },
  {
   "cell_type": "code",
   "execution_count": 28,
   "metadata": {
    "collapsed": false
   },
   "outputs": [],
   "source": [
    "for start, end in zip(range(0, X_train.shape[0], 128), range(128, X_train.shape[0], 128)):\n",
    "    cost = train(X_train[start:end], y_train2[start:end]) "
   ]
  },
  {
   "cell_type": "code",
   "execution_count": 29,
   "metadata": {
    "collapsed": false
   },
   "outputs": [
    {
     "data": {
      "text/plain": [
       "[(0.122, 0.1145)]"
      ]
     },
     "execution_count": 29,
     "metadata": {},
     "output_type": "execute_result"
    }
   ],
   "source": [
    "errors = [(np.mean(y_train != predict(X_train)), \n",
    "           np.mean(y_test != predict(X_test)))]\n",
    "errors"
   ]
  },
  {
   "cell_type": "markdown",
   "metadata": {},
   "source": [
    "Now for 100 epochs"
   ]
  },
  {
   "cell_type": "code",
   "execution_count": 30,
   "metadata": {
    "collapsed": false,
    "scrolled": true
   },
   "outputs": [
    {
     "name": "stdout",
     "output_type": "stream",
     "text": [
      "0 (0.10898333333333333, 0.1018)\n",
      "1 (0.10215, 0.094700000000000006)\n",
      "2 (0.098400000000000001, 0.092600000000000002)\n",
      "3 (0.095466666666666672, 0.090399999999999994)\n",
      "4 (0.093316666666666673, 0.088700000000000001)\n",
      "5 (0.091283333333333327, 0.087300000000000003)\n",
      "6 (0.089716666666666667, 0.086300000000000002)\n",
      "7 (0.088650000000000007, 0.0848)\n",
      "8 (0.08748333333333333, 0.084199999999999997)\n",
      "9 (0.08663333333333334, 0.084400000000000003)\n",
      "10 (0.085599999999999996, 0.083500000000000005)\n",
      "11 (0.08483333333333333, 0.083199999999999996)\n",
      "12 (0.0843, 0.083000000000000004)\n",
      "13 (0.08376666666666667, 0.082199999999999995)\n",
      "14 (0.083416666666666667, 0.081900000000000001)\n",
      "15 (0.083116666666666672, 0.0814)\n",
      "16 (0.082666666666666666, 0.081199999999999994)\n",
      "17 (0.082150000000000001, 0.080699999999999994)\n",
      "18 (0.081816666666666663, 0.080399999999999999)\n",
      "19 (0.08165, 0.080299999999999996)\n",
      "20 (0.081316666666666662, 0.080000000000000002)\n",
      "21 (0.0809, 0.079600000000000004)\n",
      "22 (0.080699999999999994, 0.079399999999999998)\n",
      "23 (0.080266666666666667, 0.079500000000000001)\n",
      "24 (0.080016666666666666, 0.079200000000000007)\n",
      "25 (0.079716666666666672, 0.079000000000000001)\n",
      "26 (0.07931666666666666, 0.079000000000000001)\n",
      "27 (0.079133333333333333, 0.078600000000000003)\n",
      "28 (0.078850000000000003, 0.078700000000000006)\n",
      "29 (0.078566666666666674, 0.0785)\n",
      "30 (0.078316666666666673, 0.078299999999999995)\n",
      "31 (0.077933333333333327, 0.078100000000000003)\n",
      "32 (0.077799999999999994, 0.078)\n",
      "33 (0.077616666666666667, 0.078)\n",
      "34 (0.077566666666666673, 0.078200000000000006)\n",
      "35 (0.077366666666666667, 0.077899999999999997)\n",
      "36 (0.077149999999999996, 0.078)\n",
      "37 (0.076966666666666669, 0.078200000000000006)\n",
      "38 (0.076749999999999999, 0.078200000000000006)\n",
      "39 (0.076633333333333331, 0.077600000000000002)\n",
      "40 (0.076450000000000004, 0.077700000000000005)\n",
      "41 (0.076333333333333336, 0.077799999999999994)\n",
      "42 (0.076149999999999995, 0.077700000000000005)\n",
      "43 (0.076016666666666663, 0.077799999999999994)\n",
      "44 (0.075850000000000001, 0.077700000000000005)\n",
      "45 (0.075600000000000001, 0.077700000000000005)\n",
      "46 (0.075516666666666662, 0.077600000000000002)\n",
      "47 (0.075300000000000006, 0.077600000000000002)\n",
      "48 (0.075249999999999997, 0.077200000000000005)\n",
      "49 (0.075116666666666665, 0.077100000000000002)\n",
      "50 (0.075033333333333327, 0.077200000000000005)\n",
      "51 (0.074950000000000003, 0.077299999999999994)\n",
      "52 (0.074866666666666665, 0.077299999999999994)\n",
      "53 (0.074716666666666667, 0.077200000000000005)\n",
      "54 (0.07456666666666667, 0.076799999999999993)\n",
      "55 (0.074366666666666664, 0.076700000000000004)\n",
      "56 (0.074216666666666667, 0.076700000000000004)\n",
      "57 (0.07403333333333334, 0.076600000000000001)\n",
      "58 (0.073849999999999999, 0.076399999999999996)\n",
      "59 (0.073766666666666661, 0.076300000000000007)\n",
      "60 (0.073700000000000002, 0.076200000000000004)\n",
      "61 (0.073533333333333339, 0.075899999999999995)\n",
      "62 (0.073499999999999996, 0.075999999999999998)\n",
      "63 (0.073333333333333334, 0.075899999999999995)\n",
      "64 (0.073216666666666666, 0.075999999999999998)\n",
      "65 (0.073099999999999998, 0.075899999999999995)\n",
      "66 (0.073099999999999998, 0.075899999999999995)\n",
      "67 (0.072933333333333336, 0.075700000000000003)\n",
      "68 (0.072800000000000004, 0.075600000000000001)\n",
      "69 (0.07273333333333333, 0.075700000000000003)\n",
      "70 (0.072700000000000001, 0.075700000000000003)\n",
      "71 (0.072633333333333328, 0.075700000000000003)\n",
      "72 (0.072550000000000003, 0.075899999999999995)\n",
      "73 (0.072450000000000001, 0.075999999999999998)\n",
      "74 (0.072416666666666671, 0.076100000000000001)\n",
      "75 (0.072400000000000006, 0.075999999999999998)\n",
      "76 (0.072333333333333333, 0.075899999999999995)\n",
      "77 (0.07223333333333333, 0.075899999999999995)\n",
      "78 (0.072183333333333335, 0.075800000000000006)\n",
      "79 (0.072166666666666671, 0.075800000000000006)\n",
      "80 (0.072150000000000006, 0.075899999999999995)\n",
      "81 (0.072050000000000003, 0.075800000000000006)\n",
      "82 (0.071999999999999995, 0.075800000000000006)\n",
      "83 (0.07195, 0.075700000000000003)\n",
      "84 (0.07195, 0.075600000000000001)\n",
      "85 (0.071900000000000006, 0.075600000000000001)\n",
      "86 (0.071866666666666662, 0.075600000000000001)\n",
      "87 (0.071866666666666662, 0.075499999999999998)\n",
      "88 (0.071800000000000003, 0.075499999999999998)\n",
      "89 (0.071716666666666665, 0.075499999999999998)\n",
      "90 (0.07173333333333333, 0.075300000000000006)\n",
      "91 (0.071633333333333327, 0.075300000000000006)\n",
      "92 (0.071550000000000002, 0.075200000000000003)\n",
      "93 (0.071483333333333329, 0.075200000000000003)\n",
      "94 (0.07141666666666667, 0.075200000000000003)\n",
      "95 (0.071400000000000005, 0.075200000000000003)\n",
      "96 (0.071283333333333337, 0.075200000000000003)\n",
      "97 (0.071249999999999994, 0.075200000000000003)\n",
      "98 (0.07116666666666667, 0.075200000000000003)\n",
      "99 (0.07113333333333334, 0.075300000000000006)\n",
      "Total time:  0.38333333333333336\n"
     ]
    }
   ],
   "source": [
    "t0 = dt.datetime.now()\n",
    "\n",
    "for i in range(100):\n",
    "    \n",
    "    for start, end in zip(range(0, X_train.shape[0], 128), \n",
    "                          range(128, X_train.shape[0], 128)):\n",
    "        cost = train(X_train[start:end], y_train2[start:end])\n",
    "        \n",
    "    errors.append((np.mean(y_train != predict(X_train)), \n",
    "                   np.mean(y_test != predict(X_test))))\n",
    "    print(i, errors[-1])\n",
    "\n",
    "print('Total time: ', (dt.datetime.now()-t0).seconds / 60.)"
   ]
  },
  {
   "cell_type": "code",
   "execution_count": 31,
   "metadata": {
    "collapsed": false,
    "scrolled": true
   },
   "outputs": [
    {
     "data": {
      "text/plain": [
       "<matplotlib.legend.Legend at 0x7fb475802828>"
      ]
     },
     "execution_count": 31,
     "metadata": {},
     "output_type": "execute_result"
    },
    {
     "data": {
      "image/png": "[encoded data removed]",
      "text/plain": [
       "<matplotlib.figure.Figure at 0x7fb477c7de10>"
      ]
     },
     "metadata": {},
     "output_type": "display_data"
    }
   ],
   "source": [
    "res = np.array(errors)\n",
    "plt.plot(np.arange(res.shape[0]), res[:, 0], label='train error')\n",
    "plt.plot(np.arange(res.shape[0]), res[:, 1], label='test  error')\n",
    "plt.legend()"
   ]
  },
  {
   "cell_type": "markdown",
   "metadata": {},
   "source": [
    "### Checking the results"
   ]
  },
  {
   "cell_type": "code",
   "execution_count": 32,
   "metadata": {
    "collapsed": true
   },
   "outputs": [],
   "source": [
    "y_pred = predict(X_test)"
   ]
  },
  {
   "cell_type": "code",
   "execution_count": 33,
   "metadata": {
    "collapsed": false
   },
   "outputs": [
    {
     "data": {
      "image/png": "[encoded data removed]",
      "text/plain": [
       "<matplotlib.figure.Figure at 0x7fb477c84ef0>"
      ]
     },
     "metadata": {},
     "output_type": "display_data"
    },
    {
     "name": "stdout",
     "output_type": "stream",
     "text": [
      "Label:  9 Predicted:  9\n"
     ]
    },
    {
     "data": {
      "image/png": "[encoded data removed]",
      "text/plain": [
       "<matplotlib.figure.Figure at 0x7fb475735dd8>"
      ]
     },
     "metadata": {},
     "output_type": "display_data"
    },
    {
     "name": "stdout",
     "output_type": "stream",
     "text": [
      "Label:  3 Predicted:  3\n"
     ]
    },
    {
     "data": {
      "image/png": "[encoded data removed]",
      "text/plain": [
       "<matplotlib.figure.Figure at 0x7fb475701518>"
      ]
     },
     "metadata": {},
     "output_type": "display_data"
    },
    {
     "name": "stdout",
     "output_type": "stream",
     "text": [
      "Label:  4 Predicted:  4\n"
     ]
    },
    {
     "data": {
      "image/png": "[encoded data removed]",
      "text/plain": [
       "<matplotlib.figure.Figure at 0x7fb475660cc0>"
      ]
     },
     "metadata": {},
     "output_type": "display_data"
    },
    {
     "name": "stdout",
     "output_type": "stream",
     "text": [
      "Label:  4 Predicted:  9\n"
     ]
    },
    {
     "data": {
      "image/png": "[encoded data removed]",
      "text/plain": [
       "<matplotlib.figure.Figure at 0x7fb47563dac8>"
      ]
     },
     "metadata": {},
     "output_type": "display_data"
    },
    {
     "name": "stdout",
     "output_type": "stream",
     "text": [
      "Label:  6 Predicted:  6\n"
     ]
    },
    {
     "data": {
      "image/png": "[encoded data removed]",
      "text/plain": [
       "<matplotlib.figure.Figure at 0x7fb475598f60>"
      ]
     },
     "metadata": {},
     "output_type": "display_data"
    },
    {
     "name": "stdout",
     "output_type": "stream",
     "text": [
      "Label:  3 Predicted:  3\n"
     ]
    },
    {
     "data": {
      "image/png": "[encoded data removed]",
      "text/plain": [
       "<matplotlib.figure.Figure at 0x7fb475572f98>"
      ]
     },
     "metadata": {},
     "output_type": "display_data"
    },
    {
     "name": "stdout",
     "output_type": "stream",
     "text": [
      "Label:  5 Predicted:  5\n"
     ]
    },
    {
     "data": {
      "image/png": "[encoded data removed]",
      "text/plain": [
       "<matplotlib.figure.Figure at 0x7fb47554ce48>"
      ]
     },
     "metadata": {},
     "output_type": "display_data"
    },
    {
     "name": "stdout",
     "output_type": "stream",
     "text": [
      "Label:  1 Predicted:  1\n"
     ]
    },
    {
     "data": {
      "image/png": "[encoded data removed]",
      "text/plain": [
       "<matplotlib.figure.Figure at 0x7fb47549fe48>"
      ]
     },
     "metadata": {},
     "output_type": "display_data"
    },
    {
     "name": "stdout",
     "output_type": "stream",
     "text": [
      "Label:  5 Predicted:  5\n"
     ]
    },
    {
     "data": {
      "image/png": "[encoded data removed]",
      "text/plain": [
       "<matplotlib.figure.Figure at 0x7fb47554cef0>"
      ]
     },
     "metadata": {},
     "output_type": "display_data"
    },
    {
     "name": "stdout",
     "output_type": "stream",
     "text": [
      "Label:  2 Predicted:  2\n"
     ]
    }
   ],
   "source": [
    "np.random.seed(2)\n",
    "small_test = np.random.choice(X_test.shape[0], 10)\n",
    "\n",
    "for i in small_test:\n",
    "    view_image(X_test[i], label=y_test[i], predicted=y_pred[i], size=1)"
   ]
  },
  {
   "cell_type": "markdown",
   "metadata": {},
   "source": [
    "# Simple Neural Net\n",
    "\n",
    "Add a hidden layer with a sigmoid activation function\n",
    "\n",
    "![a](images/d3.png)"
   ]
  },
  {
   "cell_type": "code",
   "execution_count": 34,
   "metadata": {
    "collapsed": false
   },
   "outputs": [],
   "source": [
    "def sgd(cost, params, lr=0.05):\n",
    "    grads = T.grad(cost=cost, wrt=params)\n",
    "    updates = []\n",
    "    for p, g in zip(params, grads):\n",
    "        updates.append([p, p - g * lr])\n",
    "    return updates\n",
    "\n",
    "def model(X, w_h, w_o):\n",
    "    h = T.nnet.sigmoid(T.dot(X, w_h))\n",
    "    pyx = T.nnet.softmax(T.dot(h, w_o))\n",
    "    return pyx\n",
    "\n",
    "w_h = init_weights((784, 625))\n",
    "w_o = init_weights((625, 10))\n",
    "\n",
    "py_x = model(X, w_h, w_o)\n",
    "y_x = T.argmax(py_x, axis=1)\n",
    "\n",
    "cost = T.mean(T.nnet.categorical_crossentropy(py_x, Y))\n",
    "params = [w_h, w_o]\n",
    "updates = sgd(cost, params)\n",
    "\n",
    "train = theano.function(inputs=[X, Y], outputs=cost, updates=updates, allow_input_downcast=True)\n",
    "predict = theano.function(inputs=[X], outputs=y_x, allow_input_downcast=True)"
   ]
  },
  {
   "cell_type": "code",
   "execution_count": 30,
   "metadata": {
    "collapsed": false,
    "scrolled": true
   },
   "outputs": [
    {
     "name": "stdout",
     "output_type": "stream",
     "text": [
      "0 (0.30408333333333332, 0.29780000000000001)\n",
      "1 (0.17413333333333333, 0.1714)\n",
      "2 (0.13850000000000001, 0.1328)\n",
      "3 (0.12273333333333333, 0.1168)\n",
      "4 (0.11371666666666666, 0.1101)\n",
      "5 (0.1079, 0.1051)\n",
      "6 (0.10331666666666667, 0.10150000000000001)\n",
      "7 (0.10036666666666667, 0.098000000000000004)\n",
      "8 (0.097699999999999995, 0.095100000000000004)\n",
      "9 (0.095750000000000002, 0.092799999999999994)\n",
      "10 (0.093700000000000006, 0.0906)\n",
      "11 (0.092133333333333331, 0.088300000000000003)\n",
      "12 (0.090683333333333338, 0.0872)\n",
      "13 (0.089316666666666669, 0.085699999999999998)\n",
      "14 (0.088016666666666674, 0.085000000000000006)\n",
      "15 (0.086966666666666664, 0.084099999999999994)\n",
      "16 (0.086099999999999996, 0.083500000000000005)\n",
      "17 (0.085316666666666666, 0.082900000000000001)\n",
      "18 (0.084400000000000003, 0.082000000000000003)\n",
      "19 (0.083783333333333335, 0.081699999999999995)\n",
      "20 (0.082799999999999999, 0.081199999999999994)\n",
      "21 (0.082166666666666666, 0.080600000000000005)\n",
      "22 (0.081416666666666665, 0.080000000000000002)\n",
      "23 (0.080766666666666667, 0.079200000000000007)\n",
      "24 (0.079916666666666664, 0.078700000000000006)\n",
      "25 (0.079200000000000007, 0.078600000000000003)\n",
      "26 (0.078750000000000001, 0.078200000000000006)\n",
      "27 (0.07825, 0.077899999999999997)\n",
      "28 (0.077799999999999994, 0.077299999999999994)\n",
      "29 (0.07721666666666667, 0.076499999999999999)\n",
      "30 (0.076666666666666661, 0.075899999999999995)\n",
      "31 (0.076050000000000006, 0.075999999999999998)\n",
      "32 (0.075266666666666662, 0.0751)\n",
      "33 (0.07456666666666667, 0.074399999999999994)\n",
      "34 (0.073666666666666672, 0.073899999999999993)\n",
      "35 (0.072999999999999995, 0.073300000000000004)\n",
      "36 (0.072383333333333327, 0.073200000000000001)\n",
      "37 (0.071633333333333327, 0.072700000000000001)\n",
      "38 (0.070866666666666661, 0.072599999999999998)\n",
      "39 (0.070316666666666666, 0.072099999999999997)\n",
      "40 (0.069449999999999998, 0.071099999999999997)\n",
      "41 (0.06876666666666667, 0.070499999999999993)\n",
      "42 (0.068166666666666667, 0.069699999999999998)\n",
      "43 (0.067549999999999999, 0.069199999999999998)\n",
      "44 (0.066733333333333339, 0.068900000000000003)\n",
      "45 (0.066133333333333336, 0.0688)\n",
      "46 (0.065299999999999997, 0.068199999999999997)\n",
      "47 (0.064466666666666672, 0.066799999999999998)\n",
      "48 (0.063783333333333331, 0.066199999999999995)\n",
      "49 (0.063233333333333336, 0.066100000000000006)\n",
      "50 (0.062449999999999999, 0.0654)\n",
      "51 (0.061866666666666667, 0.064500000000000002)\n",
      "52 (0.061366666666666667, 0.063799999999999996)\n",
      "53 (0.060633333333333331, 0.062700000000000006)\n",
      "54 (0.06001666666666667, 0.061899999999999997)\n",
      "55 (0.059366666666666665, 0.061100000000000002)\n",
      "56 (0.058716666666666667, 0.0608)\n",
      "57 (0.058083333333333334, 0.060299999999999999)\n",
      "58 (0.057283333333333332, 0.059900000000000002)\n",
      "59 (0.056583333333333333, 0.059299999999999999)\n",
      "60 (0.055933333333333335, 0.058799999999999998)\n",
      "61 (0.055316666666666667, 0.058099999999999999)\n",
      "62 (0.054649999999999997, 0.057700000000000001)\n",
      "63 (0.054100000000000002, 0.056899999999999999)\n",
      "64 (0.05358333333333333, 0.056300000000000003)\n",
      "65 (0.053066666666666665, 0.055800000000000002)\n",
      "66 (0.052650000000000002, 0.055199999999999999)\n",
      "67 (0.052033333333333334, 0.054899999999999997)\n",
      "68 (0.051650000000000001, 0.054600000000000003)\n",
      "69 (0.051283333333333334, 0.054100000000000002)\n",
      "70 (0.050766666666666668, 0.053699999999999998)\n",
      "71 (0.050316666666666669, 0.053100000000000001)\n",
      "72 (0.049799999999999997, 0.052699999999999997)\n",
      "73 (0.049299999999999997, 0.052600000000000001)\n",
      "74 (0.048916666666666664, 0.051499999999999997)\n",
      "75 (0.048550000000000003, 0.051499999999999997)\n",
      "76 (0.047966666666666664, 0.051299999999999998)\n",
      "77 (0.047600000000000003, 0.050700000000000002)\n",
      "78 (0.047133333333333333, 0.0504)\n",
      "79 (0.046716666666666663, 0.050200000000000002)\n",
      "80 (0.046183333333333333, 0.049399999999999999)\n",
      "81 (0.0458, 0.049200000000000001)\n",
      "82 (0.045350000000000001, 0.048899999999999999)\n",
      "83 (0.044883333333333331, 0.048599999999999997)\n",
      "84 (0.044416666666666667, 0.048000000000000001)\n",
      "85 (0.043900000000000002, 0.046800000000000001)\n",
      "86 (0.043483333333333332, 0.046800000000000001)\n",
      "87 (0.042900000000000001, 0.046600000000000003)\n",
      "88 (0.042516666666666668, 0.046199999999999998)\n",
      "89 (0.042133333333333335, 0.0458)\n",
      "90 (0.041633333333333335, 0.045499999999999999)\n",
      "91 (0.04123333333333333, 0.0453)\n",
      "92 (0.040733333333333337, 0.044999999999999998)\n",
      "93 (0.040349999999999997, 0.044400000000000002)\n",
      "94 (0.040083333333333332, 0.044200000000000003)\n",
      "95 (0.039866666666666668, 0.0441)\n",
      "96 (0.039449999999999999, 0.043799999999999999)\n",
      "97 (0.039166666666666669, 0.043499999999999997)\n",
      "98 (0.038883333333333332, 0.043299999999999998)\n",
      "99 (0.038516666666666664, 0.042799999999999998)\n",
      "Total time:  7.066666666666666\n"
     ]
    }
   ],
   "source": [
    "t0 = dt.datetime.now()\n",
    "\n",
    "errors = []\n",
    "for i in range(100):\n",
    "    \n",
    "    for start, end in zip(range(0, X_train.shape[0], 128), \n",
    "                          range(128, X_train.shape[0], 128)):\n",
    "        cost = train(X_train[start:end], y_train2[start:end])\n",
    "        \n",
    "    errors.append((np.mean(y_train != predict(X_train)), \n",
    "                   np.mean(y_test != predict(X_test))))\n",
    "    print(i, errors[-1])\n",
    "\n",
    "print('Total time: ', (dt.datetime.now()-t0).seconds / 60.)"
   ]
  },
  {
   "cell_type": "code",
   "execution_count": 31,
   "metadata": {
    "collapsed": false,
    "scrolled": false
   },
   "outputs": [
    {
     "data": {
      "text/plain": [
       "<matplotlib.legend.Legend at 0x7f546160d208>"
      ]
     },
     "execution_count": 31,
     "metadata": {},
     "output_type": "execute_result"
    },
    {
     "data": {
      "image/png": "[encoded data removed]",
      "text/plain": [
       "<matplotlib.figure.Figure at 0x7f54615a9ba8>"
      ]
     },
     "metadata": {},
     "output_type": "display_data"
    }
   ],
   "source": [
    "res = np.array(errors)\n",
    "plt.plot(np.arange(res.shape[0]), res[:, 0], label='train error')\n",
    "plt.plot(np.arange(res.shape[0]), res[:, 1], label='test  error')\n",
    "plt.legend()"
   ]
  },
  {
   "cell_type": "markdown",
   "metadata": {},
   "source": [
    "# Complex Neural Net\n",
    "\n",
    "Two hidden layers with dropout\n",
    "\n",
    "![a](images/d4.png)"
   ]
  },
  {
   "cell_type": "code",
   "execution_count": 35,
   "metadata": {
    "collapsed": true
   },
   "outputs": [],
   "source": [
    "from theano.sandbox.rng_mrg import MRG_RandomStreams as RandomStreams\n",
    "\n",
    "srng = RandomStreams()\n",
    "\n",
    "def rectify(X):\n",
    "    return T.maximum(X, 0.)"
   ]
  },
  {
   "cell_type": "markdown",
   "metadata": {},
   "source": [
    "### Understanding rectifier units\n",
    "![A](images/d5.png)"
   ]
  },
  {
   "cell_type": "code",
   "execution_count": 36,
   "metadata": {
    "collapsed": true
   },
   "outputs": [],
   "source": [
    "def RMSprop(cost, params, lr=0.001, rho=0.9, epsilon=1e-6):\n",
    "    grads = T.grad(cost=cost, wrt=params)\n",
    "    updates = []\n",
    "    for p, g in zip(params, grads):\n",
    "        acc = theano.shared(p.get_value() * 0.)\n",
    "        acc_new = rho * acc + (1 - rho) * g ** 2\n",
    "        gradient_scaling = T.sqrt(acc_new + epsilon)\n",
    "        g = g / gradient_scaling\n",
    "        updates.append((acc, acc_new))\n",
    "        updates.append((p, p - lr * g))\n",
    "    return updates"
   ]
  },
  {
   "cell_type": "markdown",
   "metadata": {},
   "source": [
    "### RMSprop\n",
    "\n",
    "\n",
    "RMSprop is an unpublished, adaptive learning rate method proposed by Geoff Hinton in \n",
    "[Lecture 6e of his Coursera Class](http://www.cs.toronto.edu/~tijmen/csc321/slides/lecture_slides_lec6.pdf)\n",
    "\n",
    "RMSprop and Adadelta have both been developed independently around the same time stemming from the need to resolve Adagrad's radically diminishing learning rates. RMSprop in fact is identical to the first update vector of Adadelta that we derived above:\n",
    "\n",
    "$$ E[g^2]_t = 0.9 E[g^2]_{t-1} + 0.1 g^2_t. $$\n",
    "\n",
    "$$\\theta_{t+1} = \\theta_{t} - \\frac{\\eta}{\\sqrt{E[g^2]_t + \\epsilon}} g_{t}.$$\n",
    "\n",
    "RMSprop as well divides the learning rate by an exponentially decaying average of squared gradients. Hinton suggests $\\gamma$ to be set to 0.9, while a good default value for the learning rate $\\eta$ is 0.001."
   ]
  },
  {
   "cell_type": "code",
   "execution_count": 37,
   "metadata": {
    "collapsed": true
   },
   "outputs": [],
   "source": [
    "def dropout(X, p=0.):\n",
    "    if p > 0:\n",
    "        retain_prob = 1 - p\n",
    "        X *= srng.binomial(X.shape, p=retain_prob, dtype=theano.config.floatX)\n",
    "        X /= retain_prob\n",
    "    return X\n",
    "\n",
    "def model(X, w_h, w_h2, w_o, p_drop_input, p_drop_hidden):\n",
    "    X = dropout(X, p_drop_input)\n",
    "    h = rectify(T.dot(X, w_h))\n",
    "\n",
    "    h = dropout(h, p_drop_hidden)\n",
    "    h2 = rectify(T.dot(h, w_h2))\n",
    "\n",
    "    h2 = dropout(h2, p_drop_hidden)\n",
    "    py_x = softmax(T.dot(h2, w_o))\n",
    "    return h, h2, py_x\n",
    "\n",
    "def softmax(X):\n",
    "    e_x = T.exp(X - X.max(axis=1).dimshuffle(0, 'x'))\n",
    "    return e_x / e_x.sum(axis=1).dimshuffle(0, 'x')"
   ]
  },
  {
   "cell_type": "code",
   "execution_count": 35,
   "metadata": {
    "collapsed": false
   },
   "outputs": [],
   "source": [
    "w_h = init_weights((784, 625))\n",
    "w_h2 = init_weights((625, 625))\n",
    "w_o = init_weights((625, 10))\n",
    "\n",
    "noise_h, noise_h2, noise_py_x = model(X, w_h, w_h2, w_o, 0.2, 0.5)\n",
    "h, h2, py_x = model(X, w_h, w_h2, w_o, 0., 0.)\n",
    "y_x = T.argmax(py_x, axis=1)\n",
    "\n",
    "cost = T.mean(T.nnet.categorical_crossentropy(noise_py_x, Y))\n",
    "params = [w_h, w_h2, w_o]\n",
    "updates = RMSprop(cost, params, lr=0.001)\n",
    "\n",
    "train = theano.function(inputs=[X, Y], outputs=cost, updates=updates, allow_input_downcast=True)\n",
    "predict = theano.function(inputs=[X], outputs=y_x, allow_input_downcast=True)"
   ]
  },
  {
   "cell_type": "code",
   "execution_count": 36,
   "metadata": {
    "collapsed": false,
    "scrolled": true
   },
   "outputs": [
    {
     "name": "stdout",
     "output_type": "stream",
     "text": [
      "0 (0.063916666666666663, 0.062399999999999997)\n",
      "1 (0.034116666666666663, 0.035400000000000001)\n",
      "2 (0.025133333333333334, 0.027799999999999998)\n",
      "3 (0.020866666666666665, 0.025600000000000001)\n",
      "4 (0.017466666666666665, 0.023900000000000001)\n",
      "5 (0.015233333333333333, 0.0206)\n",
      "6 (0.015366666666666667, 0.021700000000000001)\n",
      "7 (0.012366666666666666, 0.020199999999999999)\n",
      "8 (0.011950000000000001, 0.019800000000000002)\n",
      "9 (0.011983333333333334, 0.020199999999999999)\n",
      "10 (0.0091000000000000004, 0.0178)\n",
      "11 (0.0084666666666666675, 0.017000000000000001)\n",
      "12 (0.0086999999999999994, 0.017500000000000002)\n",
      "13 (0.0074333333333333335, 0.016500000000000001)\n",
      "14 (0.0067999999999999996, 0.017100000000000001)\n",
      "15 (0.0066166666666666665, 0.016299999999999999)\n",
      "16 (0.005783333333333333, 0.015699999999999999)\n",
      "17 (0.0061833333333333332, 0.0161)\n",
      "18 (0.0058666666666666667, 0.015100000000000001)\n",
      "19 (0.0061500000000000001, 0.017100000000000001)\n",
      "20 (0.0050499999999999998, 0.016199999999999999)\n",
      "21 (0.004816666666666667, 0.016500000000000001)\n",
      "22 (0.0045833333333333334, 0.0161)\n",
      "23 (0.0041000000000000003, 0.015699999999999999)\n",
      "24 (0.0040666666666666663, 0.016)\n",
      "25 (0.0035666666666666668, 0.0149)\n",
      "26 (0.0043333333333333331, 0.0161)\n",
      "27 (0.0032666666666666669, 0.013899999999999999)\n",
      "28 (0.0033333333333333335, 0.0143)\n",
      "29 (0.0029166666666666668, 0.013100000000000001)\n",
      "30 (0.0032166666666666667, 0.014500000000000001)\n",
      "31 (0.0033333333333333335, 0.014999999999999999)\n",
      "32 (0.0028333333333333335, 0.015100000000000001)\n",
      "33 (0.0029666666666666665, 0.0146)\n",
      "34 (0.0030500000000000002, 0.0137)\n",
      "35 (0.0029166666666666668, 0.0147)\n",
      "36 (0.0023666666666666667, 0.014200000000000001)\n",
      "37 (0.0030000000000000001, 0.0149)\n",
      "38 (0.0028333333333333335, 0.0137)\n",
      "39 (0.0020666666666666667, 0.012699999999999999)\n",
      "40 (0.0021666666666666666, 0.0134)\n",
      "41 (0.0023666666666666667, 0.0129)\n",
      "42 (0.0023500000000000001, 0.0141)\n",
      "43 (0.0021666666666666666, 0.013899999999999999)\n",
      "44 (0.0021833333333333331, 0.0154)\n",
      "45 (0.0020500000000000002, 0.0146)\n",
      "46 (0.0021833333333333331, 0.014800000000000001)\n",
      "47 (0.0016166666666666666, 0.014)\n",
      "48 (0.00175, 0.012800000000000001)\n",
      "49 (0.0017333333333333333, 0.012999999999999999)\n",
      "50 (0.0016833333333333333, 0.012999999999999999)\n",
      "51 (0.0013833333333333334, 0.0118)\n",
      "52 (0.0019333333333333333, 0.014200000000000001)\n",
      "53 (0.0013166666666666667, 0.012500000000000001)\n",
      "54 (0.0015, 0.013299999999999999)\n",
      "55 (0.0012166666666666667, 0.0132)\n",
      "56 (0.0012999999999999999, 0.012)\n",
      "57 (0.00115, 0.011900000000000001)\n",
      "58 (0.0014333333333333333, 0.012999999999999999)\n",
      "59 (0.0014666666666666667, 0.012500000000000001)\n",
      "60 (0.0010833333333333333, 0.0124)\n",
      "61 (0.00125, 0.0126)\n",
      "62 (0.0013333333333333333, 0.013299999999999999)\n",
      "63 (0.0012166666666666667, 0.0126)\n",
      "64 (0.0011000000000000001, 0.0129)\n",
      "65 (0.0010833333333333333, 0.012800000000000001)\n",
      "66 (0.0010166666666666666, 0.012999999999999999)\n",
      "67 (0.0010666666666666667, 0.013299999999999999)\n",
      "68 (0.001, 0.013100000000000001)\n",
      "69 (0.0010499999999999999, 0.013100000000000001)\n",
      "70 (0.00089999999999999998, 0.0121)\n",
      "71 (0.00075000000000000002, 0.012699999999999999)\n",
      "72 (0.00080000000000000004, 0.012999999999999999)\n",
      "73 (0.00084999999999999995, 0.0129)\n",
      "74 (0.00083333333333333339, 0.012200000000000001)\n",
      "75 (0.00083333333333333339, 0.012200000000000001)\n",
      "76 (0.00081666666666666671, 0.0121)\n",
      "77 (0.00075000000000000002, 0.013299999999999999)\n",
      "78 (0.00061666666666666662, 0.0124)\n",
      "79 (0.00066666666666666664, 0.0134)\n",
      "80 (0.0006333333333333333, 0.012800000000000001)\n",
      "81 (0.00061666666666666662, 0.013100000000000001)\n",
      "82 (0.0006333333333333333, 0.0134)\n",
      "83 (0.00080000000000000004, 0.012200000000000001)\n",
      "84 (0.00061666666666666662, 0.0124)\n",
      "85 (0.00069999999999999999, 0.0129)\n",
      "86 (0.00075000000000000002, 0.0126)\n",
      "87 (0.00046666666666666666, 0.011900000000000001)\n",
      "88 (0.00056666666666666671, 0.0118)\n",
      "89 (0.00051666666666666668, 0.0121)\n",
      "90 (0.00078333333333333336, 0.012)\n",
      "91 (0.00051666666666666668, 0.012)\n",
      "92 (0.00050000000000000001, 0.0118)\n",
      "93 (0.00056666666666666671, 0.012200000000000001)\n",
      "94 (0.00055000000000000003, 0.0124)\n",
      "95 (0.00069999999999999999, 0.012800000000000001)\n",
      "96 (0.00058333333333333338, 0.0135)\n",
      "97 (0.00055000000000000003, 0.012699999999999999)\n",
      "98 (0.00050000000000000001, 0.012999999999999999)\n",
      "99 (0.00048333333333333334, 0.0117)\n",
      "Total time:  17.85\n"
     ]
    }
   ],
   "source": [
    "t0 = dt.datetime.now()\n",
    "\n",
    "errors = []\n",
    "for i in range(100):\n",
    "    \n",
    "    for start, end in zip(range(0, X_train.shape[0], 128), \n",
    "                          range(128, X_train.shape[0], 128)):\n",
    "        cost = train(X_train[start:end], y_train2[start:end])\n",
    "        \n",
    "    errors.append((np.mean(y_train != predict(X_train)), \n",
    "                   np.mean(y_test != predict(X_test))))\n",
    "    print(i, errors[-1])\n",
    "\n",
    "print('Total time: ', (dt.datetime.now()-t0).seconds / 60.)"
   ]
  },
  {
   "cell_type": "code",
   "execution_count": 37,
   "metadata": {
    "collapsed": false,
    "scrolled": false
   },
   "outputs": [
    {
     "data": {
      "text/plain": [
       "<matplotlib.legend.Legend at 0x7f545e83d4a8>"
      ]
     },
     "execution_count": 37,
     "metadata": {},
     "output_type": "execute_result"
    },
    {
     "data": {
      "image/png": "[encoded data removed]",
      "text/plain": [
       "<matplotlib.figure.Figure at 0x7f545e874ef0>"
      ]
     },
     "metadata": {},
     "output_type": "display_data"
    }
   ],
   "source": [
    "res = np.array(errors)\n",
    "plt.plot(np.arange(res.shape[0]), res[:, 0], label='train error')\n",
    "plt.plot(np.arange(res.shape[0]), res[:, 1], label='test  error')\n",
    "plt.legend()"
   ]
  },
  {
   "cell_type": "markdown",
   "metadata": {},
   "source": [
    "# Convolutional Neural Network\n",
    "\n",
    "\n",
    "In machine learning, a convolutional neural network (CNN, or ConvNet) is a type of feed-forward artificial neural network in which the connectivity pattern between its neurons is inspired by the organization of the animal visual cortex, whose individual neurons are arranged in such a way that they respond to overlapping regions tiling the visual field. Convolutional networks were inspired by biological processes and are variations of multilayer perceptrons designed to use minimal amounts of preprocessing. (Wikipedia)\n",
    "\n",
    "\n",
    "![a](images/d7.png)"
   ]
  },
  {
   "cell_type": "markdown",
   "metadata": {},
   "source": [
    "### Motivation\n",
    "\n",
    "Convolutional Neural Networks (CNN) are biologically-inspired variants of MLPs.\n",
    "From Hubel and Wiesel's early work on the cat's visual cortex, we\n",
    "know the visual cortex contains a complex arrangement of cells. These cells are\n",
    "sensitive to small sub-regions of the visual field, called a *receptive\n",
    "field*. The sub-regions are tiled to cover the entire visual field. These\n",
    "cells act as local filters over the input space and are well-suited to exploit\n",
    "the strong spatially local correlation present in natural images.\n",
    "\n",
    "Additionally, two basic cell types have been identified: Simple cells respond\n",
    "maximally to specific edge-like patterns within their receptive field. Complex\n",
    "cells have larger receptive fields and are locally invariant to the exact\n",
    "position of the pattern.\n",
    "\n",
    "The animal visual cortex being the most powerful visual processing system in\n",
    "existence, it seems natural to emulate its behavior. Hence, many\n",
    "neurally-inspired models can be found in the literature. \n",
    "\n",
    "### Sparse Connectivity\n",
    "\n",
    "\n",
    "CNNs exploit spatially-local correlation by enforcing a local connectivity\n",
    "pattern between neurons of adjacent layers. In other words, the inputs of\n",
    "hidden units in layer **m** are from a subset of units in layer **m-1**, units\n",
    "that have spatially contiguous receptive fields. We can illustrate this\n",
    "graphically as follows:\n",
    "\n",
    "![A](images/sparse_1D_nn.png)\n",
    "\n",
    "Imagine that layer **m-1** is the input retina. In the above figure, units in\n",
    "layer **m** have receptive fields of width 3 in the input retina and are thus\n",
    "only connected to 3 adjacent neurons in the retina layer. Units in layer\n",
    "**m+1** have a similar connectivity with the layer below. We say that their\n",
    "receptive field with respect to the layer below is also 3, but their receptive\n",
    "field with respect to the input is larger (5). Each unit is unresponsive to\n",
    "variations outside of its receptive field with respect to the retina. The\n",
    "architecture thus ensures that the learnt \"filters\" produce the strongest\n",
    "response to a spatially local input pattern.\n",
    "\n",
    "However, as shown above, stacking many such layers leads to (non-linear)\n",
    "\"filters\" that become increasingly \"global\" (i.e. responsive to a larger region\n",
    "of pixel space). For example, the unit in hidden layer **m+1** can encode a\n",
    "non-linear feature of width 5 (in terms of pixel space)."
   ]
  },
  {
   "cell_type": "markdown",
   "metadata": {},
   "source": [
    "### Shared Weights\n",
    "\n",
    "\n",
    "In addition, in CNNs, each filter $h_i$ is replicated across the entire\n",
    "visual field. These replicated units share the same parameterization (weight\n",
    "vector and bias) and form a *feature map*.\n",
    "\n",
    "![](images/conv_1D_nn.png)\n",
    "\n",
    "In the above figure, we show 3 hidden units belonging to the same feature map.\n",
    "Weights of the same color are shared---constrained to be identical. Gradient\n",
    "descent can still be used to learn such shared parameters, with only a small\n",
    "change to the original algorithm. The gradient of a shared weight is simply the\n",
    "sum of the gradients of the parameters being shared.\n",
    "\n",
    "Replicating units in this way allows for features to be detected *regardless\n",
    "of their position in the visual field.* Additionally, weight sharing increases\n",
    "learning efficiency by greatly reducing the number of free parameters being\n",
    "learnt. The constraints on the model enable CNNs to achieve better\n",
    "generalization on vision problems.\n",
    "\n",
    "\n",
    "### Details and Notation\n",
    "\n",
    "\n",
    "A feature map is obtained by repeated application of a function across\n",
    "sub-regions of the entire image, in other words, by *convolution* of the\n",
    "input image with a linear filter, adding a bias term and then applying a\n",
    "non-linear function. If we denote the k-th feature map at a given layer as\n",
    "$h^k$, whose filters are determined by the weights $W^k$ and bias\n",
    "$b_k$, then the feature map $h^k$ is obtained as follows (for\n",
    "$tanh$ non-linearities):"
   ]
  },
  {
   "cell_type": "markdown",
   "metadata": {},
   "source": [
    "$$\n",
    "    h^k_{ij} = \\tanh ( (W^k * x)_{ij} + b_k ).\n",
    "$$\n",
    "\n",
    "Note\n",
    "\n",
    "* Recall the following definition of convolution for a 1D signal.\n",
    "$$  o[n] = f[n]*g[n] = \\sum_{u=-\\infty}^{\\infty} f[u] g[n-u] = \\sum_{u=-\\infty}^{\\infty} f[n-u] g[u]`.\n",
    "$$\n",
    "\n",
    "* This can be extended to 2D as follows:\n",
    "\n",
    "$$o[m,n] = f[m,n]*g[m,n] = \\sum_{u=-\\infty}^{\\infty} \\sum_{v=-\\infty}^{\\infty} f[u,v] g[m-u,n-v]`.\n",
    "$$"
   ]
  },
  {
   "cell_type": "markdown",
   "metadata": {},
   "source": [
    "To form a richer representation of the data, each hidden layer is composed of\n",
    "*multiple* feature maps, $\\{h^{(k)}, k=0..K\\}$. The weights $W$ of\n",
    "a hidden layer can be represented in a 4D tensor containing elements for every\n",
    "combination of destination feature map, source feature map, source vertical\n",
    "position, and source horizontal position. The biases $b$ can be\n",
    "represented as a vector containing one element for every destination feature\n",
    "map. We illustrate this graphically as follows:\n",
    "\n",
    "**Figure 1**: example of a convolutional layer\n",
    "![](images/cnn_explained.png)\n",
    "\n",
    "\n",
    "The figure shows two layers of a CNN. **Layer m-1** contains four feature maps.\n",
    "**Hidden layer m** contains two feature maps ($h^0$ and $h^1$).\n",
    "Pixels (neuron outputs) in $h^0$ and $h^1$ (outlined as blue and\n",
    "red squares) are computed from pixels of layer (m-1) which fall within their\n",
    "2x2 receptive field in the layer below (shown as colored rectangles). Notice\n",
    "how the receptive field spans all four input feature maps. The weights\n",
    "$W^0$ and $W^1$ of $h^0$ and $h^1$ are thus 3D weight\n",
    "tensors. The leading dimension indexes the input feature maps, while the other\n",
    "two refer to the pixel coordinates.\n",
    "\n",
    "Putting it all together, $W^{kl}_{ij}$ denotes the weight connecting\n",
    "each pixel of the k-th feature map at layer m, with the pixel at coordinates\n",
    "(i,j) of the l-th feature map of layer (m-1)."
   ]
  },
  {
   "cell_type": "markdown",
   "metadata": {},
   "source": [
    "### The Convolution Operator\n",
    "\n",
    "\n",
    "ConvOp is the main workhorse for implementing a convolutional layer in Theano.\n",
    "ConvOp is used by ``theano.tensor.signal.conv2d``, which takes two symbolic inputs:\n",
    "\n",
    "\n",
    "* a 4D tensor corresponding to a mini-batch of input images. The shape of the\n",
    "  tensor is as follows: [mini-batch size, number of input feature maps, image\n",
    "  height, image width].\n",
    "\n",
    "* a 4D tensor corresponding to the weight matrix $W$. The shape of the\n",
    "  tensor is: [number of feature maps at layer m, number of feature maps at\n",
    "  layer m-1, filter height, filter width]"
   ]
  },
  {
   "cell_type": "markdown",
   "metadata": {},
   "source": [
    "### MaxPooling\n",
    "\n",
    "\n",
    "Another important concept of CNNs is *max-pooling,* which is a form of\n",
    "non-linear down-sampling. Max-pooling partitions the input image into\n",
    "a set of non-overlapping rectangles and, for each such sub-region, outputs the\n",
    "maximum value.\n",
    "\n",
    "Max-pooling is useful in vision for two reasons: \n",
    "* By eliminating non-maximal values, it reduces computation for upper layers.\n",
    "\n",
    "* It provides a form of translation invariance. Imagine\n",
    "     cascading a max-pooling layer with a convolutional layer. There are 8\n",
    "     directions in which one can translate the input image by a single pixel.\n",
    "     If max-pooling is done over a 2x2 region, 3 out of these 8 possible\n",
    "     configurations will produce exactly the same output at the convolutional\n",
    "     layer. For max-pooling over a 3x3 window, this jumps to 5/8.\n",
    "\n",
    "     Since it provides additional robustness to position, max-pooling is a\n",
    "     \"smart\" way of reducing the dimensionality of intermediate representations.\n",
    "\n",
    "Max-pooling is done in Theano by way of\n",
    "``theano.tensor.signal.downsample.max_pool_2d``. This function takes as input\n",
    "an N dimensional tensor (where N >= 2) and a downscaling factor and performs\n",
    "max-pooling over the 2 trailing dimensions of the tensor.\n",
    "\n",
    "\n",
    "### The Full Model: CovNet\n",
    "\n",
    "\n",
    "Sparse, convolutional layers and max-pooling are at the heart of the LeNet\n",
    "family of models. While the exact details of the model will vary greatly,\n",
    "the figure below shows a graphical depiction of a LeNet model.\n",
    "\n",
    "![](images/mylenet.png)\n",
    "\n",
    "\n",
    "The lower-layers are composed to alternating convolution and max-pooling\n",
    "layers. The upper-layers however are fully-connected and correspond to a\n",
    "traditional MLP (hidden layer + logistic regression). The input to the\n",
    "first fully-connected layer is the set of all features maps at the layer\n",
    "below.\n",
    "\n",
    "From an implementation point of view, this means lower-layers operate on 4D\n",
    "tensors. These are then flattened to a 2D matrix of rasterized feature maps,\n",
    "to be compatible with our previous MLP implementation.\n"
   ]
  },
  {
   "cell_type": "code",
   "execution_count": 38,
   "metadata": {
    "collapsed": false
   },
   "outputs": [
    {
     "name": "stderr",
     "output_type": "stream",
     "text": [
      "/home/al/anaconda3/lib/python3.5/site-packages/theano/tensor/signal/downsample.py:6: UserWarning: downsample module has been moved to the theano.tensor.signal.pool module.\n",
      "  \"downsample module has been moved to the theano.tensor.signal.pool module.\")\n"
     ]
    }
   ],
   "source": [
    "# from theano.tensor.nnet.conv import conv2d\n",
    "from theano.tensor.nnet import conv2d\n",
    "from theano.tensor.signal.downsample import max_pool_2d"
   ]
  },
  {
   "cell_type": "markdown",
   "metadata": {},
   "source": [
    "Modify dropout function"
   ]
  },
  {
   "cell_type": "code",
   "execution_count": 39,
   "metadata": {
    "collapsed": false
   },
   "outputs": [],
   "source": [
    "def model(X, w, w2, w3, w4, w_o, p_drop_conv, p_drop_hidden):\n",
    "    l1a = rectify(conv2d(X, w, border_mode='full'))\n",
    "    l1 = max_pool_2d(l1a, (2, 2))\n",
    "    l1 = dropout(l1, p_drop_conv)\n",
    "\n",
    "    l2a = rectify(conv2d(l1, w2))\n",
    "    l2 = max_pool_2d(l2a, (2, 2))\n",
    "    l2 = dropout(l2, p_drop_conv)\n",
    "\n",
    "    l3a = rectify(conv2d(l2, w3))\n",
    "    l3b = max_pool_2d(l3a, (2, 2))\n",
    "    # convert from 4tensor to normal matrix\n",
    "    l3 = T.flatten(l3b, outdim=2)\n",
    "    l3 = dropout(l3, p_drop_conv)\n",
    "\n",
    "    l4 = rectify(T.dot(l3, w4))\n",
    "    l4 = dropout(l4, p_drop_hidden)\n",
    "\n",
    "    pyx = softmax(T.dot(l4, w_o))\n",
    "    return l1, l2, l3, l4, pyx"
   ]
  },
  {
   "cell_type": "markdown",
   "metadata": {},
   "source": [
    "reshape into conv 4tensor (b, c, 0, 1) format"
   ]
  },
  {
   "cell_type": "code",
   "execution_count": 40,
   "metadata": {
    "collapsed": false
   },
   "outputs": [],
   "source": [
    "X_train2 = X_train.reshape(-1, 1, 28, 28)\n",
    "X_test2 = X_test.reshape(-1, 1, 28, 28)"
   ]
  },
  {
   "cell_type": "code",
   "execution_count": 41,
   "metadata": {
    "collapsed": false
   },
   "outputs": [],
   "source": [
    "# now 4tensor for conv instead of matrix\n",
    "X = T.ftensor4()\n",
    "Y = T.fmatrix()"
   ]
  },
  {
   "cell_type": "code",
   "execution_count": 42,
   "metadata": {
    "collapsed": false
   },
   "outputs": [],
   "source": [
    "w = init_weights((32, 1, 3, 3))\n",
    "w2 = init_weights((64, 32, 3, 3))\n",
    "w3 = init_weights((128, 64, 3, 3))\n",
    "w4 = init_weights((128 * 3 * 3, 625))\n",
    "w_o = init_weights((625, 10))"
   ]
  },
  {
   "cell_type": "code",
   "execution_count": 43,
   "metadata": {
    "collapsed": false
   },
   "outputs": [
    {
     "name": "stderr",
     "output_type": "stream",
     "text": [
      "/home/al/anaconda3/lib/python3.5/site-packages/ipykernel/__main__.py:3: UserWarning: pool_2d() will have the parameter ignore_border default value changed to True (currently False). To have consistent behavior with all Theano version, explicitly add the parameter ignore_border=True. On the GPU, using ignore_border=True is needed to use cuDNN. When using ignore_border=False and not using cuDNN, the only GPU combination supported is when `ds == st and padding == (0, 0) and mode == 'max'`. Otherwise, the convolution will be executed on CPU.\n",
      "  app.launch_new_instance()\n",
      "/home/al/anaconda3/lib/python3.5/site-packages/ipykernel/__main__.py:7: UserWarning: pool_2d() will have the parameter ignore_border default value changed to True (currently False). To have consistent behavior with all Theano version, explicitly add the parameter ignore_border=True. On the GPU, using ignore_border=True is needed to use cuDNN. When using ignore_border=False and not using cuDNN, the only GPU combination supported is when `ds == st and padding == (0, 0) and mode == 'max'`. Otherwise, the convolution will be executed on CPU.\n",
      "/home/al/anaconda3/lib/python3.5/site-packages/ipykernel/__main__.py:11: UserWarning: pool_2d() will have the parameter ignore_border default value changed to True (currently False). To have consistent behavior with all Theano version, explicitly add the parameter ignore_border=True. On the GPU, using ignore_border=True is needed to use cuDNN. When using ignore_border=False and not using cuDNN, the only GPU combination supported is when `ds == st and padding == (0, 0) and mode == 'max'`. Otherwise, the convolution will be executed on CPU.\n"
     ]
    }
   ],
   "source": [
    "noise_l1, noise_l2, noise_l3, noise_l4, noise_py_x = model(X, w, w2, w3, w4, w_o, 0.2, 0.5)\n",
    "l1, l2, l3, l4, py_x = model(X, w, w2, w3, w4, w_o, 0., 0.)\n",
    "y_x = T.argmax(py_x, axis=1)\n",
    "\n",
    "cost = T.mean(T.nnet.categorical_crossentropy(noise_py_x, Y))\n",
    "params = [w, w2, w3, w4, w_o]\n",
    "updates = RMSprop(cost, params, lr=0.001)\n",
    "\n",
    "train = theano.function(inputs=[X, Y], outputs=cost, updates=updates, allow_input_downcast=True)\n",
    "predict = theano.function(inputs=[X], outputs=y_x, allow_input_downcast=True)"
   ]
  },
  {
   "cell_type": "code",
   "execution_count": 45,
   "metadata": {
    "collapsed": false,
    "scrolled": true
   },
   "outputs": [
    {
     "name": "stdout",
     "output_type": "stream",
     "text": [
      "0 (0.066083333333333327, 0.058799999999999998)\n",
      "Current iter time:  3.966666666666667\n",
      "1 (0.029049999999999999, 0.025100000000000001)\n",
      "Current iter time:  2.3666666666666667\n",
      "2 (0.021183333333333332, 0.019400000000000001)\n",
      "Current iter time:  2.466666666666667\n",
      "3 (0.012483333333333334, 0.0132)\n",
      "Current iter time:  2.466666666666667\n",
      "4 (0.010183333333333334, 0.0117)\n",
      "Current iter time:  2.45\n",
      "5 (0.0080333333333333333, 0.010500000000000001)\n",
      "Current iter time:  2.4833333333333334\n",
      "6 (0.0078499999999999993, 0.010500000000000001)\n",
      "Current iter time:  2.3666666666666667\n",
      "7 (0.0064999999999999997, 0.0085000000000000006)\n",
      "Current iter time:  2.4833333333333334\n",
      "8 (0.0053166666666666666, 0.0088000000000000005)\n",
      "Current iter time:  2.466666666666667\n",
      "9 (0.0067166666666666668, 0.0092999999999999992)\n",
      "Current iter time:  2.5166666666666666\n",
      "10 (0.003966666666666667, 0.0080999999999999996)\n",
      "Current iter time:  2.5166666666666666\n",
      "11 (0.0043666666666666663, 0.0077999999999999996)\n",
      "Current iter time:  2.55\n",
      "12 (0.0029499999999999999, 0.0080000000000000002)\n",
      "Current iter time:  2.5833333333333335\n",
      "13 (0.0028166666666666665, 0.0077000000000000002)\n",
      "Current iter time:  2.45\n",
      "14 (0.0028500000000000001, 0.0071999999999999998)\n",
      "Current iter time:  2.466666666666667\n",
      "15 (0.0021666666666666666, 0.0067000000000000002)\n",
      "Current iter time:  2.4833333333333334\n",
      "16 (0.0020833333333333333, 0.0073000000000000001)\n",
      "Current iter time:  2.4\n",
      "17 (0.0017333333333333333, 0.0071999999999999998)\n",
      "Current iter time:  2.433333333333333\n",
      "18 (0.0020333333333333332, 0.0067999999999999996)\n",
      "Current iter time:  2.4166666666666665\n",
      "19 (0.0014833333333333332, 0.0068999999999999999)\n",
      "Current iter time:  2.35\n",
      "20 (0.0015, 0.0070000000000000001)\n",
      "Current iter time:  2.45\n"
     ]
    },
    {
     "ename": "KeyboardInterrupt",
     "evalue": "",
     "output_type": "error",
     "traceback": [
      "\u001b[1;31m---------------------------------------------------------------------------\u001b[0m",
      "\u001b[1;31mKeyboardInterrupt\u001b[0m                         Traceback (most recent call last)",
      "\u001b[1;32m<ipython-input-45-254bc5cccb43>\u001b[0m in \u001b[0;36m<module>\u001b[1;34m()\u001b[0m\n\u001b[0;32m     17\u001b[0m     for start, end in zip(range(0, X_train.shape[0], 128), \n\u001b[0;32m     18\u001b[0m                           range(128, X_train.shape[0], 128)):\n\u001b[1;32m---> 19\u001b[1;33m         \u001b[0mcost\u001b[0m \u001b[1;33m=\u001b[0m \u001b[0mtrain\u001b[0m\u001b[1;33m(\u001b[0m\u001b[0mX_train2\u001b[0m\u001b[1;33m[\u001b[0m\u001b[0mstart\u001b[0m\u001b[1;33m:\u001b[0m\u001b[0mend\u001b[0m\u001b[1;33m]\u001b[0m\u001b[1;33m,\u001b[0m \u001b[0my_train2\u001b[0m\u001b[1;33m[\u001b[0m\u001b[0mstart\u001b[0m\u001b[1;33m:\u001b[0m\u001b[0mend\u001b[0m\u001b[1;33m]\u001b[0m\u001b[1;33m)\u001b[0m\u001b[1;33m\u001b[0m\u001b[0m\n\u001b[0m\u001b[0;32m     20\u001b[0m \u001b[1;33m\u001b[0m\u001b[0m\n\u001b[0;32m     21\u001b[0m     errors.append((np.mean(y_train != predict(X_train2)), \n",
      "\u001b[1;32m/home/al/anaconda3/lib/python3.5/site-packages/theano/compile/function_module.py\u001b[0m in \u001b[0;36m__call__\u001b[1;34m(self, *args, **kwargs)\u001b[0m\n\u001b[0;32m    857\u001b[0m         \u001b[0mt0_fn\u001b[0m \u001b[1;33m=\u001b[0m \u001b[0mtime\u001b[0m\u001b[1;33m.\u001b[0m\u001b[0mtime\u001b[0m\u001b[1;33m(\u001b[0m\u001b[1;33m)\u001b[0m\u001b[1;33m\u001b[0m\u001b[0m\n\u001b[0;32m    858\u001b[0m         \u001b[1;32mtry\u001b[0m\u001b[1;33m:\u001b[0m\u001b[1;33m\u001b[0m\u001b[0m\n\u001b[1;32m--> 859\u001b[1;33m             \u001b[0moutputs\u001b[0m \u001b[1;33m=\u001b[0m \u001b[0mself\u001b[0m\u001b[1;33m.\u001b[0m\u001b[0mfn\u001b[0m\u001b[1;33m(\u001b[0m\u001b[1;33m)\u001b[0m\u001b[1;33m\u001b[0m\u001b[0m\n\u001b[0m\u001b[0;32m    860\u001b[0m         \u001b[1;32mexcept\u001b[0m \u001b[0mException\u001b[0m\u001b[1;33m:\u001b[0m\u001b[1;33m\u001b[0m\u001b[0m\n\u001b[0;32m    861\u001b[0m             \u001b[1;32mif\u001b[0m \u001b[0mhasattr\u001b[0m\u001b[1;33m(\u001b[0m\u001b[0mself\u001b[0m\u001b[1;33m.\u001b[0m\u001b[0mfn\u001b[0m\u001b[1;33m,\u001b[0m \u001b[1;34m'position_of_error'\u001b[0m\u001b[1;33m)\u001b[0m\u001b[1;33m:\u001b[0m\u001b[1;33m\u001b[0m\u001b[0m\n",
      "\u001b[1;31mKeyboardInterrupt\u001b[0m: "
     ]
    }
   ],
   "source": [
    "t0 = dt.datetime.now()\n",
    "\n",
    "errors = []\n",
    "for i in range(100):\n",
    "    t1 = dt.datetime.now()\n",
    "    \n",
    "    for start, end in zip(range(0, X_train.shape[0], 128), \n",
    "                          range(128, X_train.shape[0], 128)):\n",
    "        cost = train(X_train2[start:end], y_train2[start:end])\n",
    "        \n",
    "    errors.append((np.mean(y_train != predict(X_train2)), \n",
    "                   np.mean(y_test != predict(X_test2))))\n",
    "    print(i, errors[-1])\n",
    "    print('Current iter time: ', (dt.datetime.now()-t1).seconds / 60.)\n",
    "\n",
    "print('Total time: ', (dt.datetime.now()-t0).seconds / 60.)"
   ]
  },
  {
   "cell_type": "code",
   "execution_count": 46,
   "metadata": {
    "collapsed": false
   },
   "outputs": [
    {
     "name": "stdout",
     "output_type": "stream",
     "text": [
      "Total time:  53.483333333333334\n"
     ]
    }
   ],
   "source": [
    "print('Total time: ', (dt.datetime.now()-t0).seconds / 60.)"
   ]
  },
  {
   "cell_type": "code",
   "execution_count": 47,
   "metadata": {
    "collapsed": false
   },
   "outputs": [
    {
     "data": {
      "text/plain": [
       "<matplotlib.legend.Legend at 0x7f543264a940>"
      ]
     },
     "execution_count": 47,
     "metadata": {},
     "output_type": "execute_result"
    },
    {
     "data": {
      "image/png": "[encoded data removed]",
      "text/plain": [
       "<matplotlib.figure.Figure at 0x7f5432689198>"
      ]
     },
     "metadata": {},
     "output_type": "display_data"
    }
   ],
   "source": [
    "res = np.array(errors)\n",
    "plt.plot(np.arange(res.shape[0]), res[:, 0], label='train error')\n",
    "plt.plot(np.arange(res.shape[0]), res[:, 1], label='test  error')\n",
    "plt.legend()"
   ]
  },
  {
   "cell_type": "markdown",
   "metadata": {},
   "source": [
    "# Even more complex networks\n",
    "\n",
    "## GoogLeNet\n",
    "![a](images/googlenet2.png)\n",
    "\n",
    "[examples](http://www.csc.kth.se/~roelof/deepdream/bvlc_googlenet.html)"
   ]
  }
 ],
 "metadata": {
  "kernelspec": {
   "display_name": "Python 3",
   "language": "python",
   "name": "python3"
  },
  "language_info": {
   "codemirror_mode": {
    "name": "ipython",
    "version": 3
   },
   "file_extension": ".py",
   "mimetype": "text/x-python",
   "name": "python",
   "nbconvert_exporter": "python",
   "pygments_lexer": "ipython3",
   "version": "3.5.1"
  }
 },
 "nbformat": 4,
 "nbformat_minor": 0
}
